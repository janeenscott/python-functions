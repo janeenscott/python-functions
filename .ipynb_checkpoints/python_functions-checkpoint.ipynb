{
 "cells": [
  {
   "cell_type": "markdown",
   "metadata": {},
   "source": [
    "Define a function ```max_number()``` that takes two numbers as arguments and returns the largest of them. Use the if-then-else construct available in Python."
   ]
  },
  {
   "cell_type": "code",
   "execution_count": 67,
   "metadata": {},
   "outputs": [
    {
     "name": "stdout",
     "output_type": "stream",
     "text": [
      "6\n"
     ]
    }
   ],
   "source": [
    "def max_number(num_one, num_two):\n",
    "#     numbers = input(\"Give me two numbers: \")\n",
    "    # creates an input box for user to type 2 numbers\n",
    "    \n",
    "#     num_one = numbers[0]\n",
    "#     num_two = numbers[1]\n",
    "\n",
    "\n",
    "    if num_one > num_two:\n",
    "        print(num_one)\n",
    "    else:\n",
    "        print(num_two)    \n",
    "        \n",
    "max_number(3, 6)"
   ]
  },
  {
   "cell_type": "markdown",
   "metadata": {},
   "source": [
    "Define a function ```max_of_three()``` that takes three numbers as arguments and returns the largest of them."
   ]
  },
  {
   "cell_type": "code",
   "execution_count": 26,
   "metadata": {},
   "outputs": [
    {
     "name": "stdout",
     "output_type": "stream",
     "text": [
      "17\n"
     ]
    }
   ],
   "source": [
    "def max_of_three(num_one, num_two, num_three):    \n",
    "    \n",
    "    \n",
    "    if num_one > num_two and num_one > num_three:\n",
    "        print(num_one)\n",
    "    elif num_two > num_one and num_two > num_three:\n",
    "        print(num_two)\n",
    "    else:\n",
    "        print(num_three)\n",
    "        \n",
    "max_of_three(5, 17, 6)"
   ]
  },
  {
   "cell_type": "markdown",
   "metadata": {},
   "source": [
    "Define a function ```is_vowel()``` that takes a character (i.e. a string of length 1). Return true if it is a vowel, false otherwise."
   ]
  },
  {
   "cell_type": "code",
   "execution_count": 61,
   "metadata": {},
   "outputs": [
    {
     "data": {
      "text/plain": [
       "False"
      ]
     },
     "execution_count": 61,
     "metadata": {},
     "output_type": "execute_result"
    }
   ],
   "source": [
    "def is_vowel(letter):\n",
    "\n",
    "    \n",
    "    vowels = (['a', 'e','i', 'o', 'u'])\n",
    "   \n",
    "    \n",
    "    if letter in vowels:\n",
    "        return True\n",
    "    else:\n",
    "        return False\n",
    "\n",
    "is_vowel('p')"
   ]
  },
  {
   "cell_type": "markdown",
   "metadata": {},
   "source": [
    "Define a function ```translate()``` that will translate text into \"rövarspråket\". That is, double every consonant and place an occurrence of \"o\" in between. For example, ```translate(\"this is fun\")``` should return the string ```\"tothohisos isos fofunon\"```."
   ]
  },
  {
   "cell_type": "code",
   "execution_count": 74,
   "metadata": {},
   "outputs": [
    {
     "data": {
      "text/plain": [
       "'nonicoce'"
      ]
     },
     "execution_count": 74,
     "metadata": {},
     "output_type": "execute_result"
    }
   ],
   "source": [
    "def translate(normal_word):\n",
    "    result = ''\n",
    "    for char in normal_word:\n",
    "        if char in 'bcdfghjklmnpqrstvwxyz':\n",
    "            result = result + char + 'o' + char\n",
    "        else:\n",
    "            result = result + char\n",
    "        \n",
    "    return result   \n",
    "translate(\"nice\")"
   ]
  },
  {
   "cell_type": "markdown",
   "metadata": {},
   "source": [
    "Define a function ```sum()``` and a function ```multiply()```. Functions should sum and multiply (respectively) all numbers in an list of numbers. For example, ```sum([1,2,3,4])``` should return ```10```, and ```multiply([1,2,3,4])``` should return ```24```."
   ]
  },
  {
   "cell_type": "code",
   "execution_count": 96,
   "metadata": {},
   "outputs": [
    {
     "data": {
      "text/plain": [
       "24"
      ]
     },
     "execution_count": 96,
     "metadata": {},
     "output_type": "execute_result"
    }
   ],
   "source": [
    "def sum(numbers_add):\n",
    "    total = 0\n",
    "    for i in numbers_add:\n",
    "        total += i \n",
    "    return total\n",
    "        \n",
    "sum([1, 2, 3, 4])\n",
    "    \n",
    "\n",
    "def multiply(numbers_mult):\n",
    "    total = 1\n",
    "    for i in numbers_mult:\n",
    "        total*= i\n",
    "    return total\n",
    "multiply([1, 2, 3, 4])\n",
    "   "
   ]
  },
  {
   "cell_type": "markdown",
   "metadata": {},
   "source": [
    "Define a function ```reverse()``` that computes the reversal of a string. For example, ```reverse(\"jag testar\")``` should return the string ```\"ratset gaj\"```."
   ]
  },
  {
   "cell_type": "code",
   "execution_count": 85,
   "metadata": {},
   "outputs": [
    {
     "data": {
      "text/plain": [
       "'neenaj'"
      ]
     },
     "execution_count": 85,
     "metadata": {},
     "output_type": "execute_result"
    }
   ],
   "source": [
    "def reverse(string):\n",
    "    backward_string = string[::-1]\n",
    "    \n",
    "    return backward_string\n",
    "    \n",
    "reverse('janeen')\n",
    "    \n",
    "\n"
   ]
  },
  {
   "cell_type": "markdown",
   "metadata": {},
   "source": [
    "Define a function ```find_longest_word()``` that takes a list of words and returns the length of the longest one."
   ]
  },
  {
   "cell_type": "code",
   "execution_count": 102,
   "metadata": {},
   "outputs": [
    {
     "data": {
      "text/plain": [
       "9"
      ]
     },
     "execution_count": 102,
     "metadata": {},
     "output_type": "execute_result"
    }
   ],
   "source": [
    "def find_longest_word(word_list):\n",
    "    longest_word = ''\n",
    "    for item in word_list:\n",
    "        if len(item) > len(longest_word):\n",
    "            longest_word = item\n",
    "    \n",
    "    \n",
    "    return len(longest_word)\n",
    "\n",
    "find_longest_word(['hashbrown','pea','milk'])"
   ]
  },
  {
   "cell_type": "markdown",
   "metadata": {},
   "source": [
    "Define a function ```filter_long_words()``` that takes a list of words and an integer ```i``` and returns a list of words that are longer than ```i```."
   ]
  },
  {
   "cell_type": "code",
   "execution_count": 113,
   "metadata": {},
   "outputs": [
    {
     "data": {
      "text/plain": [
       "['hashbrown', 'castle', 'flying']"
      ]
     },
     "execution_count": 113,
     "metadata": {},
     "output_type": "execute_result"
    }
   ],
   "source": [
    "def filter_long_words(list_of_words, i):\n",
    "    words_longer_i = []\n",
    "    \n",
    "    for word in list_of_words:\n",
    "        if len(word) > i:\n",
    "            words_longer_i.append(word)\n",
    "    \n",
    "    \n",
    "    \n",
    "    return words_longer_i\n",
    "\n",
    "filter_long_words(['hashbrown','pea','milk', 'castle', 'flying'], 4)    "
   ]
  },
  {
   "cell_type": "markdown",
   "metadata": {},
   "source": [
    "Write a function ```char_freq()``` that takes a string and builds a frequency listing of the characters contained in it. Represent the frequency listing as a Python dictionary. Try it with something like ```charFreq(\"abbabcbdbabdbdbabababcbcbab\")```."
   ]
  },
  {
   "cell_type": "code",
   "execution_count": 127,
   "metadata": {},
   "outputs": [
    {
     "data": {
      "text/plain": [
       "{'a': 7, 'b': 14, 'c': 3, 'd': 3}"
      ]
     },
     "execution_count": 127,
     "metadata": {},
     "output_type": "execute_result"
    }
   ],
   "source": [
    "def char_freq(character_string):\n",
    "\n",
    "    freq_list = {}\n",
    "    \n",
    "    for letter in character_string:\n",
    "        if letter in freq_list:\n",
    "            freq_list[letter] = freq_list[letter] + 1\n",
    "        else: \n",
    "            freq_list[letter] = 1\n",
    "    return freq_list\n",
    "\n",
    "\n",
    "char_freq(\"abbabcbdbabdbdbabababcbcbab\")\n",
    "\n",
    "\n",
    "\n",
    "\n",
    "\n",
    "\n",
    "# my_dict = {}\n",
    "\n",
    "# my_dict['name']='janeen'\n",
    "\n",
    "# print(my_dict)\n",
    "\n",
    "# my_dict['name']='stone'\n",
    "\n",
    "# print(my_dict)\n",
    "\n",
    "# if 'name' in my_dict:\n",
    "#     print(\"i have an name\")\n",
    "\n",
    "\n"
   ]
  }
 ],
 "metadata": {
  "kernelspec": {
   "display_name": "Python 3",
   "language": "python",
   "name": "python3"
  },
  "language_info": {
   "codemirror_mode": {
    "name": "ipython",
    "version": 3
   },
   "file_extension": ".py",
   "mimetype": "text/x-python",
   "name": "python",
   "nbconvert_exporter": "python",
   "pygments_lexer": "ipython3",
   "version": "3.7.2"
  }
 },
 "nbformat": 4,
 "nbformat_minor": 2
}
